{
 "cells": [
  {
   "cell_type": "markdown",
   "id": "35a589eb",
   "metadata": {},
   "source": [
    "# Q1. What is the meaning of multiple inheritance?"
   ]
  },
  {
   "cell_type": "markdown",
   "id": "c1739102",
   "metadata": {},
   "source": [
    "When a class uses the properties of multiple other base classes, it is known as multiple inheritance. For Example: a child class uses the properties of the father class and the mother class."
   ]
  },
  {
   "cell_type": "markdown",
   "id": "33a0a51c",
   "metadata": {},
   "source": [
    "# Q2. What is the concept of delegation?"
   ]
  },
  {
   "cell_type": "markdown",
   "id": "017f77ed",
   "metadata": {},
   "source": [
    "It is an object oriented technique which allows one to reuse the same code as in inheritance with some cuatomizations, it overrides the selected method as per requirement keeping the whole code same."
   ]
  },
  {
   "cell_type": "markdown",
   "id": "b4fe3802",
   "metadata": {},
   "source": [
    "# Q3. What is the concept of composition?"
   ]
  },
  {
   "cell_type": "markdown",
   "id": "c4b5d27c",
   "metadata": {},
   "source": [
    "Using the instances of 2 or more other classes in a new class is basically known as composition. It is also comprised under the Object Oriented technique."
   ]
  },
  {
   "cell_type": "markdown",
   "id": "7bd02650",
   "metadata": {},
   "source": [
    "# Q4. What are bound methods and how do we use them?"
   ]
  },
  {
   "cell_type": "markdown",
   "id": "4cf72f69",
   "metadata": {},
   "source": [
    "Bound method is the method which depends on the instance of the class Bound methods passes the instance as the first argument which is used to access the variables and functions further, we use them just by calling them later on when required."
   ]
  },
  {
   "cell_type": "markdown",
   "id": "d0fd4b9c",
   "metadata": {},
   "source": [
    "# Q5. What is the purpose of pseudoprivate attributes?"
   ]
  },
  {
   "cell_type": "markdown",
   "id": "1f155ed9",
   "metadata": {},
   "source": [
    "It is a way to prevent important methods and attributes from getting overriden. It prevents from name clashes and accidental corruption."
   ]
  },
  {
   "cell_type": "code",
   "execution_count": null,
   "id": "f1d761bd",
   "metadata": {},
   "outputs": [],
   "source": []
  }
 ],
 "metadata": {
  "kernelspec": {
   "display_name": "Python 3 (ipykernel)",
   "language": "python",
   "name": "python3"
  },
  "language_info": {
   "codemirror_mode": {
    "name": "ipython",
    "version": 3
   },
   "file_extension": ".py",
   "mimetype": "text/x-python",
   "name": "python",
   "nbconvert_exporter": "python",
   "pygments_lexer": "ipython3",
   "version": "3.9.12"
  }
 },
 "nbformat": 4,
 "nbformat_minor": 5
}
